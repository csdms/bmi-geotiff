{
 "cells": [
  {
   "cell_type": "markdown",
   "id": "0",
   "metadata": {},
   "source": [
    "# Examples: bmi-geotiff"
   ]
  },
  {
   "cell_type": "markdown",
   "id": "1",
   "metadata": {},
   "source": [
    "Here are a few examples of using the CSDMS GeoTiff data component,\n",
    "*bmi-geotiff*.\n",
    "\n",
    "* [geotiff.ipynb](./geotiff.ipynb) and [bmi-geotiff.ipynb](./bmi-geotiff.ipynb): These Jupyter Notebooks show how to call the GeoTiff data component through its API and its BMI, respectively.\n",
    "* [example-pan.py](./example-pan.py): An example Python script showing how to load and display a panchromatic image.\n",
    "* [example-rgb.py](./example-rgb.py): An example Python script showing how to load and display a three-band image. The saved output is in [example-rgb.png](./example-rgb.png).\n",
    "* [RGB.byte.tif](./RGB.byte.tif): A test GeoTIFF file from the [rasterio](https://github.com/rasterio/rasterio) project, used under their [license](https://github.com/rasterio/rasterio/blob/main/LICENSE.txt).\n",
    "* [config.yaml](./config.yaml): A sample configuration file used to pass parameters to the GeoTiff data component."
   ]
  }
 ],
 "metadata": {
  "kernelspec": {
   "display_name": "CSDMS",
   "language": "python",
   "name": "csdms"
  },
  "language_info": {
   "codemirror_mode": {
    "name": "ipython",
    "version": 3
   },
   "file_extension": ".py",
   "mimetype": "text/x-python",
   "name": "python",
   "nbconvert_exporter": "python",
   "pygments_lexer": "ipython3",
   "version": "3.11.7"
  }
 },
 "nbformat": 4,
 "nbformat_minor": 5
}
