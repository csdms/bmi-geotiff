{
 "cells": [
  {
   "cell_type": "markdown",
   "id": "0",
   "metadata": {},
   "source": [
    "# Read GeoTIFF files with the `GeoTiff` class"
   ]
  },
  {
   "cell_type": "markdown",
   "id": "1",
   "metadata": {},
   "source": [
    "This notebook describes how to open a GeoTIFF file\n",
    "with the `GeoTiff` class included in the `bmi-geotiff` package."
   ]
  },
  {
   "cell_type": "markdown",
   "id": "2",
   "metadata": {},
   "source": [
    "## Setup"
   ]
  },
  {
   "cell_type": "markdown",
   "id": "3",
   "metadata": {},
   "source": [
    "To ensure all dependencies are met, set up a conda environment using the environment file found in the root directory of this repository:\n",
    "```\n",
    "conda env create --file environment.yml\n",
    "```\n",
    "\n",
    "Then install the `bmi-geotiff` package:\n",
    "```\n",
    "pip install -e .\n",
    "```"
   ]
  },
  {
   "cell_type": "markdown",
   "id": "4",
   "metadata": {},
   "source": [
    "## Open a file"
   ]
  },
  {
   "cell_type": "markdown",
   "id": "5",
   "metadata": {},
   "source": [
    "Import the `GeoTiff` class from the `bmi-geotiff` package:"
   ]
  },
  {
   "cell_type": "code",
   "execution_count": null,
   "id": "6",
   "metadata": {},
   "outputs": [],
   "source": [
    "from bmi_geotiff import GeoTiff"
   ]
  },
  {
   "cell_type": "markdown",
   "id": "7",
   "metadata": {},
   "source": [
    "`GeoTiff` uses the open source [xarray](https://xarray.pydata.org), [rioxarray](https://corteva.github.io/rioxarray/stable/), and [rasterio](https://rasterio.readthedocs.io) packages to open, read, and store data and metadata from GeoTIFF files."
   ]
  },
  {
   "cell_type": "markdown",
   "id": "8",
   "metadata": {},
   "source": [
    "Create an instance of `GeoTiff`:"
   ]
  },
  {
   "cell_type": "code",
   "execution_count": null,
   "id": "9",
   "metadata": {},
   "outputs": [],
   "source": [
    "tif = GeoTiff()"
   ]
  },
  {
   "cell_type": "markdown",
   "id": "10",
   "metadata": {},
   "source": [
    "The `GeoTiff` class can open local or remote files.\n",
    "Here, we'll use the test file [RGB.byte.tif](https://github.com/rasterio/rasterio/raw/master/tests/data/RGB.byte.tif) from the rasterio project.\n",
    "It's included in the examples directory of the [bmi-geotiff repository](https://github.com/csdms/bmi-geotiff),\n",
    "but if you don't have it locally, click the link above to download it.\n",
    "\n",
    "Open the file with the `GeoTiff` instance:"
   ]
  },
  {
   "cell_type": "code",
   "execution_count": null,
   "id": "11",
   "metadata": {},
   "outputs": [],
   "source": [
    "tif_file = \"RGB.byte.tif\"\n",
    "tif.open(tif_file)"
   ]
  },
  {
   "cell_type": "markdown",
   "id": "12",
   "metadata": {},
   "source": [
    "Note that a file can also be opened on instantiation, eliminating the call to `open`."
   ]
  },
  {
   "cell_type": "markdown",
   "id": "13",
   "metadata": {},
   "source": [
    "The data (and metadata) from the file are loaded into an `xarray` DataArray, which can be accessed through the `da` property."
   ]
  },
  {
   "cell_type": "code",
   "execution_count": null,
   "id": "14",
   "metadata": {},
   "outputs": [],
   "source": [
    "tif.da"
   ]
  },
  {
   "cell_type": "markdown",
   "id": "15",
   "metadata": {},
   "source": [
    "Coordinate reference system information is stored in the `spatial_ref` non-dimensional coordinate:"
   ]
  },
  {
   "cell_type": "code",
   "execution_count": null,
   "id": "16",
   "metadata": {},
   "outputs": [],
   "source": [
    "tif.da.spatial_ref"
   ]
  },
  {
   "cell_type": "markdown",
   "id": "17",
   "metadata": {},
   "source": [
    "## Visualize"
   ]
  },
  {
   "cell_type": "markdown",
   "id": "18",
   "metadata": {},
   "source": [
    "Let's visualize the data read from the file.\n",
    "The steps below are based on [this example](http://xarray.pydata.org/en/stable/examples/visualization_gallery.html#imshow()-and-rasterio-map-projections) from the xarray visualization gallery."
   ]
  },
  {
   "cell_type": "code",
   "execution_count": null,
   "id": "19",
   "metadata": {},
   "outputs": [],
   "source": [
    "import cartopy.crs as ccrs\n",
    "import matplotlib.pyplot as plt"
   ]
  },
  {
   "cell_type": "code",
   "execution_count": null,
   "id": "20",
   "metadata": {},
   "outputs": [],
   "source": [
    "crs = ccrs.UTM(\"18\", southern_hemisphere=False)\n",
    "ax = plt.subplot(projection=crs)\n",
    "tif.da.plot.imshow(ax=ax, rgb=\"band\", transform=crs)"
   ]
  },
  {
   "cell_type": "markdown",
   "id": "21",
   "metadata": {},
   "source": [
    "## Conclusion"
   ]
  },
  {
   "cell_type": "markdown",
   "id": "22",
   "metadata": {},
   "source": [
    "The `GeoTiff` class does little more than wrap the existing functionality of xarray, rioxarray, and rasterio.\n",
    "However, it provides a base class that can be wrapped with a [Basic Model Interface](https://bmi.readthedocs.io) (BMI) to create a [CSDMS data component](https://csdms.colorado.edu/wiki/DataComponents) that can be coupled with other components that also expose a BMI.\n",
    "\n",
    "We'll explore this functionality in a [second notebook](bmi-geotiff.ipynb)."
   ]
  }
 ],
 "metadata": {
  "kernelspec": {
   "display_name": "Python 3 (ipykernel)",
   "language": "python",
   "name": "python3"
  },
  "language_info": {
   "codemirror_mode": {
    "name": "ipython",
    "version": 3
   },
   "file_extension": ".py",
   "mimetype": "text/x-python",
   "name": "python",
   "nbconvert_exporter": "python",
   "pygments_lexer": "ipython3",
   "version": "3.10.5"
  }
 },
 "nbformat": 4,
 "nbformat_minor": 5
}
