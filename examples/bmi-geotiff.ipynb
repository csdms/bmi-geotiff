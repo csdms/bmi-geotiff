{
 "cells": [
  {
   "cell_type": "markdown",
   "id": "eastern-royal",
   "metadata": {},
   "source": [
    "# Read GeoTIFF data through a BMI"
   ]
  },
  {
   "cell_type": "markdown",
   "id": "boxed-series",
   "metadata": {},
   "source": [
    "This notebook describes how to open and read data from GeoTIFF files\n",
    "using a [Basic Model Interface](https://bmi.readthedocs.io/) (BMI) through the `BmiGeoTiff` class included in the `bmi-geotiff` package."
   ]
  },
  {
   "cell_type": "markdown",
   "id": "metropolitan-intake",
   "metadata": {},
   "source": [
    "## Setup"
   ]
  },
  {
   "cell_type": "markdown",
   "id": "applied-partnership",
   "metadata": {},
   "source": [
    "To ensure all dependencies are met, set up a conda environment using the environment file found in the root directory of this repository:\n",
    "```\n",
    "conda env create --file=environment.yml\n",
    "```\n",
    "\n",
    "Then install the `bmi-geotiff` package:\n",
    "```\n",
    "make install\n",
    "```"
   ]
  },
  {
   "cell_type": "markdown",
   "id": "moving-reliance",
   "metadata": {},
   "source": [
    "Import a set of libraries for later use:"
   ]
  },
  {
   "cell_type": "code",
   "execution_count": 1,
   "id": "major-porter",
   "metadata": {},
   "outputs": [],
   "source": [
    "import numpy as np\n",
    "from rasterio.plot import show"
   ]
  },
  {
   "cell_type": "markdown",
   "id": "binary-easter",
   "metadata": {},
   "source": [
    "## Open a file"
   ]
  },
  {
   "cell_type": "markdown",
   "id": "monthly-stereo",
   "metadata": {},
   "source": [
    "Import the `BmiGeoTiff` class from the `bmi-geotiff` package:"
   ]
  },
  {
   "cell_type": "code",
   "execution_count": 2,
   "id": "universal-module",
   "metadata": {},
   "outputs": [],
   "source": [
    "from bmi_geotiff import BmiGeoTiff"
   ]
  },
  {
   "cell_type": "markdown",
   "id": "related-machinery",
   "metadata": {},
   "source": [
    "Create an instance of this class."
   ]
  },
  {
   "cell_type": "code",
   "execution_count": 3,
   "id": "dynamic-deviation",
   "metadata": {},
   "outputs": [],
   "source": [
    "m = BmiGeoTiff()"
   ]
  },
  {
   "cell_type": "markdown",
   "id": "prepared-pantyhose",
   "metadata": {},
   "source": [
    "Calling `help` on the instance displays all the BMI methods that are available."
   ]
  },
  {
   "cell_type": "code",
   "execution_count": 4,
   "id": "mental-character",
   "metadata": {},
   "outputs": [
    {
     "name": "stdout",
     "output_type": "stream",
     "text": [
      "Help on BmiGeoTiff in module bmi_geotiff.bmi object:\n",
      "\n",
      "class BmiGeoTiff(bmipy.bmi.Bmi)\n",
      " |  BmiGeoTiff() -> None\n",
      " |  \n",
      " |  BMI-mediated access to data and metadata in a GeoTIFF file.\n",
      " |  \n",
      " |  Method resolution order:\n",
      " |      BmiGeoTiff\n",
      " |      bmipy.bmi.Bmi\n",
      " |      abc.ABC\n",
      " |      builtins.object\n",
      " |  \n",
      " |  Methods defined here:\n",
      " |  \n",
      " |  __init__(self) -> None\n",
      " |      Initialize self.  See help(type(self)) for accurate signature.\n",
      " |  \n",
      " |  finalize(self) -> None\n",
      " |      Perform tear-down tasks for the model.\n",
      " |      \n",
      " |      Perform all tasks that take place after exiting the model's time\n",
      " |      loop. This typically includes deallocating memory, closing files and\n",
      " |      printing reports.\n",
      " |  \n",
      " |  get_component_name(self) -> str\n",
      " |      Name of the component.\n",
      " |      \n",
      " |      Returns\n",
      " |      -------\n",
      " |      str\n",
      " |          The name of the component.\n",
      " |  \n",
      " |  get_current_time(self) -> float\n",
      " |      Current time of the model.\n",
      " |      \n",
      " |      Returns\n",
      " |      -------\n",
      " |      float\n",
      " |          The current model time.\n",
      " |  \n",
      " |  get_end_time(self) -> float\n",
      " |      End time of the model.\n",
      " |      \n",
      " |      Returns\n",
      " |      -------\n",
      " |      float\n",
      " |          The maximum model time.\n",
      " |  \n",
      " |  get_grid_edge_count(self, grid: int) -> int\n",
      " |      Get the number of edges in the grid.\n",
      " |      \n",
      " |      Parameters\n",
      " |      ----------\n",
      " |      grid : int\n",
      " |          A grid identifier.\n",
      " |      \n",
      " |      Returns\n",
      " |      -------\n",
      " |      int\n",
      " |          The total number of grid edges.\n",
      " |  \n",
      " |  get_grid_edge_nodes(self, grid: int, edge_nodes: numpy.ndarray) -> numpy.ndarray\n",
      " |      Get the edge-node connectivity.\n",
      " |      \n",
      " |      Parameters\n",
      " |      ----------\n",
      " |      grid : int\n",
      " |          A grid identifier.\n",
      " |      edge_nodes : ndarray of int, shape *(2 x nnodes,)*\n",
      " |          A numpy array to place the edge-node connectivity. For each edge,\n",
      " |          connectivity is given as node at edge tail, followed by node at\n",
      " |          edge head.\n",
      " |      \n",
      " |      Returns\n",
      " |      -------\n",
      " |      ndarray of int\n",
      " |          The input numpy array that holds the edge-node connectivity.\n",
      " |  \n",
      " |  get_grid_face_count(self, grid: int) -> int\n",
      " |      Get the number of faces in the grid.\n",
      " |      \n",
      " |      Parameters\n",
      " |      ----------\n",
      " |      grid : int\n",
      " |          A grid identifier.\n",
      " |      \n",
      " |      Returns\n",
      " |      -------\n",
      " |      int\n",
      " |          The total number of grid faces.\n",
      " |  \n",
      " |  get_grid_face_edges(self, grid: int, face_edges: numpy.ndarray) -> numpy.ndarray\n",
      " |      Get the face-edge connectivity.\n",
      " |      \n",
      " |      Parameters\n",
      " |      ----------\n",
      " |      grid : int\n",
      " |          A grid identifier.\n",
      " |      face_edges : ndarray of int\n",
      " |          A numpy array to place the face-edge connectivity.\n",
      " |      \n",
      " |      Returns\n",
      " |      -------\n",
      " |      ndarray of int\n",
      " |          The input numpy array that holds the face-edge connectivity.\n",
      " |  \n",
      " |  get_grid_face_nodes(self, grid: int, face_nodes: numpy.ndarray) -> numpy.ndarray\n",
      " |      Get the face-node connectivity.\n",
      " |      \n",
      " |      Parameters\n",
      " |      ----------\n",
      " |      grid : int\n",
      " |          A grid identifier.\n",
      " |      face_nodes : ndarray of int\n",
      " |          A numpy array to place the face-node connectivity. For each face,\n",
      " |          the nodes (listed in a counter-clockwise direction) that form the\n",
      " |          boundary of the face.\n",
      " |      \n",
      " |      Returns\n",
      " |      -------\n",
      " |      ndarray of int\n",
      " |          The input numpy array that holds the face-node connectivity.\n",
      " |  \n",
      " |  get_grid_node_count(self, grid: int) -> int\n",
      " |      Get the number of nodes in the grid.\n",
      " |      \n",
      " |      Parameters\n",
      " |      ----------\n",
      " |      grid : int\n",
      " |          A grid identifier.\n",
      " |      \n",
      " |      Returns\n",
      " |      -------\n",
      " |      int\n",
      " |          The total number of grid nodes.\n",
      " |  \n",
      " |  get_grid_nodes_per_face(self, grid: int, nodes_per_face: numpy.ndarray) -> numpy.ndarray\n",
      " |      Get the number of nodes for each face.\n",
      " |      \n",
      " |      Parameters\n",
      " |      ----------\n",
      " |      grid : int\n",
      " |          A grid identifier.\n",
      " |      nodes_per_face : ndarray of int, shape *(nfaces,)*\n",
      " |          A numpy array to place the number of edges per face.\n",
      " |      \n",
      " |      Returns\n",
      " |      -------\n",
      " |      ndarray of int\n",
      " |          The input numpy array that holds the number of nodes per edge.\n",
      " |  \n",
      " |  get_grid_origin(self, grid: int, origin: numpy.ndarray) -> numpy.ndarray\n",
      " |      Get coordinates for the lower-left corner of the computational grid.\n",
      " |      \n",
      " |      Parameters\n",
      " |      ----------\n",
      " |      grid : int\n",
      " |          A grid identifier.\n",
      " |      origin : ndarray of float, shape *(ndim,)*\n",
      " |          A numpy array to hold the coordinates of the lower-left corner of\n",
      " |          the grid.\n",
      " |      \n",
      " |      Returns\n",
      " |      -------\n",
      " |      ndarray of float\n",
      " |          The input numpy array that holds the coordinates of the grid's\n",
      " |          lower-left corner.\n",
      " |  \n",
      " |  get_grid_rank(self, grid: int) -> int\n",
      " |      Get number of dimensions of the computational grid.\n",
      " |      \n",
      " |      Parameters\n",
      " |      ----------\n",
      " |      grid : int\n",
      " |          A grid identifier.\n",
      " |      \n",
      " |      Returns\n",
      " |      -------\n",
      " |      int\n",
      " |          Rank of the grid.\n",
      " |  \n",
      " |  get_grid_shape(self, grid: int, shape: numpy.ndarray) -> numpy.ndarray\n",
      " |      Get dimensions of the computational grid.\n",
      " |      \n",
      " |      Parameters\n",
      " |      ----------\n",
      " |      grid : int\n",
      " |          A grid identifier.\n",
      " |      shape : ndarray of int, shape *(ndim,)*\n",
      " |          A numpy array into which to place the shape of the grid.\n",
      " |      \n",
      " |      Returns\n",
      " |      -------\n",
      " |      ndarray of int\n",
      " |          The input numpy array that holds the grid's shape.\n",
      " |  \n",
      " |  get_grid_size(self, grid: int) -> int\n",
      " |      Get the total number of elements in the computational grid.\n",
      " |      \n",
      " |      Parameters\n",
      " |      ----------\n",
      " |      grid : int\n",
      " |          A grid identifier.\n",
      " |      \n",
      " |      Returns\n",
      " |      -------\n",
      " |      int\n",
      " |          Size of the grid.\n",
      " |  \n",
      " |  get_grid_spacing(self, grid: int, spacing: numpy.ndarray) -> numpy.ndarray\n",
      " |      Get distance between nodes of the computational grid.\n",
      " |      \n",
      " |      Parameters\n",
      " |      ----------\n",
      " |      grid : int\n",
      " |          A grid identifier.\n",
      " |      spacing : ndarray of float, shape *(ndim,)*\n",
      " |          A numpy array to hold the spacing between grid rows and columns.\n",
      " |      \n",
      " |      Returns\n",
      " |      -------\n",
      " |      ndarray of float\n",
      " |          The input numpy array that holds the grid's spacing.\n",
      " |  \n",
      " |  get_grid_type(self, grid: int) -> str\n",
      " |      Get the grid type as a string.\n",
      " |      \n",
      " |      Parameters\n",
      " |      ----------\n",
      " |      grid : int\n",
      " |          A grid identifier.\n",
      " |      \n",
      " |      Returns\n",
      " |      -------\n",
      " |      str\n",
      " |          Type of grid as a string.\n",
      " |  \n",
      " |  get_grid_x(self, grid: int, x: numpy.ndarray) -> numpy.ndarray\n",
      " |      Get coordinates of grid nodes in the x direction.\n",
      " |      \n",
      " |      Parameters\n",
      " |      ----------\n",
      " |      grid : int\n",
      " |          A grid identifier.\n",
      " |      x : ndarray of float, shape *(nrows,)*\n",
      " |          A numpy array to hold the x-coordinates of the grid node columns.\n",
      " |      \n",
      " |      Returns\n",
      " |      -------\n",
      " |      ndarray of float\n",
      " |          The input numpy array that holds the grid's column x-coordinates.\n",
      " |  \n",
      " |  get_grid_y(self, grid: int, y: numpy.ndarray) -> numpy.ndarray\n",
      " |      Get coordinates of grid nodes in the y direction.\n",
      " |      \n",
      " |      Parameters\n",
      " |      ----------\n",
      " |      grid : int\n",
      " |          A grid identifier.\n",
      " |      y : ndarray of float, shape *(ncols,)*\n",
      " |          A numpy array to hold the y-coordinates of the grid node rows.\n",
      " |      \n",
      " |      Returns\n",
      " |      -------\n",
      " |      ndarray of float\n",
      " |          The input numpy array that holds the grid's row y-coordinates.\n",
      " |  \n",
      " |  get_grid_z(self, grid: int, z: numpy.ndarray) -> numpy.ndarray\n",
      " |      Get coordinates of grid nodes in the z direction.\n",
      " |      \n",
      " |      Parameters\n",
      " |      ----------\n",
      " |      grid : int\n",
      " |          A grid identifier.\n",
      " |      z : ndarray of float, shape *(nlayers,)*\n",
      " |          A numpy array to hold the z-coordinates of the grid nodes layers.\n",
      " |      \n",
      " |      Returns\n",
      " |      -------\n",
      " |      ndarray of float\n",
      " |          The input numpy array that holds the grid's layer z-coordinates.\n",
      " |  \n",
      " |  get_input_item_count(self) -> int\n",
      " |      Count of a model's input variables.\n",
      " |      \n",
      " |      Returns\n",
      " |      -------\n",
      " |      int\n",
      " |        The number of input variables.\n",
      " |  \n",
      " |  get_input_var_names(self) -> Tuple[str]\n",
      " |      List of a model's input variables.\n",
      " |      \n",
      " |      Input variable names must be CSDMS Standard Names, also known\n",
      " |      as *long variable names*.\n",
      " |      \n",
      " |      Returns\n",
      " |      -------\n",
      " |      list of str\n",
      " |          The input variables for the model.\n",
      " |      \n",
      " |      Notes\n",
      " |      -----\n",
      " |      Standard Names enable the CSDMS framework to determine whether\n",
      " |      an input variable in one model is equivalent to, or compatible\n",
      " |      with, an output variable in another model. This allows the\n",
      " |      framework to automatically connect components.\n",
      " |      \n",
      " |      Standard Names do not have to be used within the model.\n",
      " |  \n",
      " |  get_output_item_count(self) -> int\n",
      " |      Count of a model's output variables.\n",
      " |      \n",
      " |      Returns\n",
      " |      -------\n",
      " |      int\n",
      " |        The number of output variables.\n",
      " |  \n",
      " |  get_output_var_names(self) -> Tuple[str]\n",
      " |      List of a model's output variables.\n",
      " |      \n",
      " |      Output variable names must be CSDMS Standard Names, also known\n",
      " |      as *long variable names*.\n",
      " |      \n",
      " |      Returns\n",
      " |      -------\n",
      " |      list of str\n",
      " |          The output variables for the model.\n",
      " |  \n",
      " |  get_start_time(self) -> float\n",
      " |      Start time of the model.\n",
      " |      \n",
      " |      Model times should be of type float.\n",
      " |      \n",
      " |      Returns\n",
      " |      -------\n",
      " |      float\n",
      " |          The model start time.\n",
      " |  \n",
      " |  get_time_step(self) -> float\n",
      " |      Current time step of the model.\n",
      " |      \n",
      " |      The model time step should be of type float.\n",
      " |      \n",
      " |      Returns\n",
      " |      -------\n",
      " |      float\n",
      " |          The time step used in model.\n",
      " |  \n",
      " |  get_time_units(self) -> str\n",
      " |      Time units of the model.\n",
      " |      \n",
      " |      Returns\n",
      " |      -------\n",
      " |      float\n",
      " |          The model time unit; e.g., `days` or `s`.\n",
      " |      \n",
      " |      Notes\n",
      " |      -----\n",
      " |      CSDMS uses the UDUNITS standard from Unidata.\n",
      " |  \n",
      " |  get_value(self, name: str, dest: numpy.ndarray) -> numpy.ndarray\n",
      " |      Get a copy of values of the given variable.\n",
      " |      \n",
      " |      This is a getter for the model, used to access the model's\n",
      " |      current state. It returns a *copy* of a model variable, with\n",
      " |      the return type, size and rank dependent on the variable.\n",
      " |      \n",
      " |      Parameters\n",
      " |      ----------\n",
      " |      name : str\n",
      " |          An input or output variable name, a CSDMS Standard Name.\n",
      " |      dest : ndarray\n",
      " |          A numpy array into which to place the values.\n",
      " |      \n",
      " |      Returns\n",
      " |      -------\n",
      " |      ndarray\n",
      " |          The same numpy array that was passed as an input buffer.\n",
      " |  \n",
      " |  get_value_at_indices(self, name: str, dest: numpy.ndarray, inds: numpy.ndarray) -> numpy.ndarray\n",
      " |      Get values at particular indices.\n",
      " |      \n",
      " |      Parameters\n",
      " |      ----------\n",
      " |      name : str\n",
      " |          An input or output variable name, a CSDMS Standard Name.\n",
      " |      dest : ndarray\n",
      " |          A numpy array into which to place the values.\n",
      " |      indices : array_like\n",
      " |          The indices into the variable array.\n",
      " |      \n",
      " |      Returns\n",
      " |      -------\n",
      " |      array_like\n",
      " |          Value of the model variable at the given location.\n",
      " |  \n",
      " |  get_value_ptr(self, name: str) -> numpy.ndarray\n",
      " |      Get a reference to values of the given variable.\n",
      " |      \n",
      " |      This is a getter for the model, used to access the model's\n",
      " |      current state. It returns a reference to a model variable,\n",
      " |      with the return type, size and rank dependent on the variable.\n",
      " |      \n",
      " |      Parameters\n",
      " |      ----------\n",
      " |      name : str\n",
      " |          An input or output variable name, a CSDMS Standard Name.\n",
      " |      \n",
      " |      Returns\n",
      " |      -------\n",
      " |      array_like\n",
      " |          A reference to a model variable.\n",
      " |  \n",
      " |  get_var_grid(self, name: str) -> int\n",
      " |      Get grid identifier for the given variable.\n",
      " |      \n",
      " |      Parameters\n",
      " |      ----------\n",
      " |      name : str\n",
      " |          An input or output variable name, a CSDMS Standard Name.\n",
      " |      \n",
      " |      Returns\n",
      " |      -------\n",
      " |      int\n",
      " |        The grid identifier.\n",
      " |  \n",
      " |  get_var_itemsize(self, name: str) -> int\n",
      " |      Get memory use for each array element in bytes.\n",
      " |      \n",
      " |      Parameters\n",
      " |      ----------\n",
      " |      name : str\n",
      " |          An input or output variable name, a CSDMS Standard Name.\n",
      " |      \n",
      " |      Returns\n",
      " |      -------\n",
      " |      int\n",
      " |          Item size in bytes.\n",
      " |  \n",
      " |  get_var_location(self, name: str) -> str\n",
      " |      Get the grid element type that the a given variable is defined on.\n",
      " |      \n",
      " |      The grid topology can be composed of *nodes*, *edges*, and *faces*.\n",
      " |      \n",
      " |      *node*\n",
      " |          A point that has a coordinate pair or triplet: the most\n",
      " |          basic element of the topology.\n",
      " |      \n",
      " |      *edge*\n",
      " |          A line or curve bounded by two *nodes*.\n",
      " |      \n",
      " |      *face*\n",
      " |          A plane or surface enclosed by a set of edges. In a 2D\n",
      " |          horizontal application one may consider the word “polygon”,\n",
      " |          but in the hierarchy of elements the word “face” is most common.\n",
      " |      \n",
      " |      Parameters\n",
      " |      ----------\n",
      " |      name : str\n",
      " |          An input or output variable name, a CSDMS Standard Name.\n",
      " |      \n",
      " |      Returns\n",
      " |      -------\n",
      " |      str\n",
      " |          The grid location on which the variable is defined. Must be one of\n",
      " |          `\"node\"`, `\"edge\"`, or `\"face\"`.\n",
      " |      \n",
      " |      Notes\n",
      " |      -----\n",
      " |      CSDMS uses the `ugrid conventions`_ to define unstructured grids.\n",
      " |      \n",
      " |      .. _ugrid conventions: http://ugrid-conventions.github.io/ugrid-conventions\n",
      " |  \n",
      " |  get_var_nbytes(self, name: str) -> int\n",
      " |      Get size, in bytes, of the given variable.\n",
      " |      \n",
      " |      Parameters\n",
      " |      ----------\n",
      " |      name : str\n",
      " |          An input or output variable name, a CSDMS Standard Name.\n",
      " |      \n",
      " |      Returns\n",
      " |      -------\n",
      " |      int\n",
      " |          The size of the variable, counted in bytes.\n",
      " |  \n",
      " |  get_var_type(self, name: str) -> str\n",
      " |      Get data type of the given variable.\n",
      " |      \n",
      " |      Parameters\n",
      " |      ----------\n",
      " |      name : str\n",
      " |          An input or output variable name, a CSDMS Standard Name.\n",
      " |      \n",
      " |      Returns\n",
      " |      -------\n",
      " |      str\n",
      " |          The Python variable type; e.g., ``str``, ``int``, ``float``.\n",
      " |  \n",
      " |  get_var_units(self, name: str) -> str\n",
      " |      Get units of the given variable.\n",
      " |      \n",
      " |      Standard unit names, in lower case, should be used, such as\n",
      " |      ``meters`` or ``seconds``. Standard abbreviations, like ``m`` for\n",
      " |      meters, are also supported. For variables with compound units,\n",
      " |      each unit name is separated by a single space, with exponents\n",
      " |      other than 1 placed immediately after the name, as in ``m s-1``\n",
      " |      for velocity, ``W m-2`` for an energy flux, or ``km2`` for an\n",
      " |      area.\n",
      " |      \n",
      " |      Parameters\n",
      " |      ----------\n",
      " |      name : str\n",
      " |          An input or output variable name, a CSDMS Standard Name.\n",
      " |      \n",
      " |      Returns\n",
      " |      -------\n",
      " |      str\n",
      " |          The variable units.\n",
      " |      \n",
      " |      Notes\n",
      " |      -----\n",
      " |      CSDMS uses the `UDUNITS`_ standard from Unidata.\n",
      " |      \n",
      " |      .. _UDUNITS: http://www.unidata.ucar.edu/software/udunits\n",
      " |  \n",
      " |  initialize(self, config_file: str) -> None\n",
      " |      Perform startup tasks for the model.\n",
      " |      \n",
      " |      Perform all tasks that take place before entering the model's time\n",
      " |      loop, including opening files and initializing the model state. Model\n",
      " |      inputs are read from a text-based configuration file, specified by\n",
      " |      `filename`.\n",
      " |      \n",
      " |      Parameters\n",
      " |      ----------\n",
      " |      config_file : str, optional\n",
      " |          The path to the model configuration file.\n",
      " |      \n",
      " |      Notes\n",
      " |      -----\n",
      " |      Models should be refactored, if necessary, to use a\n",
      " |      configuration file. CSDMS does not impose any constraint on\n",
      " |      how configuration files are formatted, although YAML is\n",
      " |      recommended. A template of a model's configuration file\n",
      " |      with placeholder values is used by the BMI.\n",
      " |  \n",
      " |  set_value(self, name: str, values: numpy.ndarray) -> None\n",
      " |      Specify a new value for a model variable.\n",
      " |      \n",
      " |      This is the setter for the model, used to change the model's\n",
      " |      current state. It accepts, through *src*, a new value for a\n",
      " |      model variable, with the type, size and rank of *src*\n",
      " |      dependent on the variable.\n",
      " |      \n",
      " |      Parameters\n",
      " |      ----------\n",
      " |      var_name : str\n",
      " |          An input or output variable name, a CSDMS Standard Name.\n",
      " |      src : array_like\n",
      " |          The new value for the specified variable.\n",
      " |  \n",
      " |  set_value_at_indices(self, name: str, inds: numpy.ndarray, src: numpy.ndarray) -> None\n",
      " |      Specify a new value for a model variable at particular indices.\n",
      " |      \n",
      " |      Parameters\n",
      " |      ----------\n",
      " |      var_name : str\n",
      " |          An input or output variable name, a CSDMS Standard Name.\n",
      " |      indices : array_like\n",
      " |          The indices into the variable array.\n",
      " |      src : array_like\n",
      " |          The new value for the specified variable.\n",
      " |  \n",
      " |  update(self) -> None\n",
      " |      Advance model state by one time step.\n",
      " |      \n",
      " |      Perform all tasks that take place within one pass through the model's\n",
      " |      time loop. This typically includes incrementing all of the model's\n",
      " |      state variables. If the model's state variables don't change in time,\n",
      " |      then they can be computed by the :func:`initialize` method and this\n",
      " |      method can return with no action.\n",
      " |  \n",
      " |  update_until(self, time: float) -> None\n",
      " |      Advance model state until the given time.\n",
      " |      \n",
      " |      Parameters\n",
      " |      ----------\n",
      " |      time : float\n",
      " |          A model time later than the current model time.\n",
      " |  \n",
      " |  ----------------------------------------------------------------------\n",
      " |  Data and other attributes defined here:\n",
      " |  \n",
      " |  __abstractmethods__ = frozenset()\n",
      " |  \n",
      " |  ----------------------------------------------------------------------\n",
      " |  Data descriptors inherited from bmipy.bmi.Bmi:\n",
      " |  \n",
      " |  __dict__\n",
      " |      dictionary for instance variables (if defined)\n",
      " |  \n",
      " |  __weakref__\n",
      " |      list of weak references to the object (if defined)\n",
      "\n"
     ]
    }
   ],
   "source": [
    "help(m)"
   ]
  },
  {
   "cell_type": "markdown",
   "id": "limiting-ferry",
   "metadata": {},
   "source": [
    "The first step in using a BMI is calling the `initialize` method.\n",
    "This method requires a configuration file that provides initial values for the `GeoTiff` library wrapped by the BMI.\n",
    "\n",
    "A sample configuration file is provided in the current directory."
   ]
  },
  {
   "cell_type": "code",
   "execution_count": 5,
   "id": "mighty-carrier",
   "metadata": {},
   "outputs": [
    {
     "name": "stdout",
     "output_type": "stream",
     "text": [
      "\u001b[35mRGB.byte.tif\u001b[m\u001b[m@      config.yaml        readme_example.py\r\n",
      "bmi-geotiff.ipynb  geotiff.ipynb\r\n"
     ]
    }
   ],
   "source": [
    "ls"
   ]
  },
  {
   "cell_type": "code",
   "execution_count": 6,
   "id": "stuck-twins",
   "metadata": {},
   "outputs": [
    {
     "name": "stdout",
     "output_type": "stream",
     "text": [
      "bmi-geotiff:\r\n",
      "  filename: RGB.byte.tif\r\n"
     ]
    }
   ],
   "source": [
    "cat config.yaml"
   ]
  },
  {
   "cell_type": "markdown",
   "id": "employed-patrick",
   "metadata": {},
   "source": [
    "In this case, the configuration file simply lists the path to a GeoTIFF file\n",
    "(here, the test file RGB.byte.tif from the [rasterio](https://rasterio.readthedocs.io/) project).\n",
    "\n",
    "Call `initialize` with the sample configuration file:"
   ]
  },
  {
   "cell_type": "code",
   "execution_count": 7,
   "id": "awful-spirituality",
   "metadata": {},
   "outputs": [],
   "source": [
    "m.initialize(\"config.yaml\")"
   ]
  },
  {
   "cell_type": "markdown",
   "id": "gentle-italian",
   "metadata": {},
   "source": [
    "The GeoTIFF file listed in the configuration file has now been opened,\n",
    "and the information is contains can be accessed through BMI methods."
   ]
  },
  {
   "cell_type": "markdown",
   "id": "accessory-clinton",
   "metadata": {},
   "source": [
    "## Access data through the BMI"
   ]
  },
  {
   "cell_type": "markdown",
   "id": "short-option",
   "metadata": {},
   "source": [
    "Now that we've opened the GeoTIFF file, let's access the data and metadata it contains through the BMI.\n",
    "This will take a few steps.\n",
    "It may seem cumbersome at first, but there's payoff at the end.\n",
    "\n",
    "Start by displying the names of the variables exposed through the BMI."
   ]
  },
  {
   "cell_type": "code",
   "execution_count": 8,
   "id": "broadband-stocks",
   "metadata": {},
   "outputs": [
    {
     "data": {
      "text/plain": [
       "('gis__raster_data',\n",
       " 'gis__coordinate_reference_system',\n",
       " 'gis__gdal_geotransform')"
      ]
     },
     "execution_count": 8,
     "metadata": {},
     "output_type": "execute_result"
    }
   ],
   "source": [
    "m.get_output_var_names()"
   ]
  },
  {
   "cell_type": "markdown",
   "id": "whole-stand",
   "metadata": {},
   "source": [
    "The (long) names used for these variables are instances of [CSDMS Standard Names](https://csdms.colorado.edu/wiki/CSDMS_Standard_Names).\n",
    "Standard Names are intended to be unambiguous; the tradeoff is that they tend to be long.\n",
    "Here, the first variable is for the raster data stored in the file."
   ]
  },
  {
   "cell_type": "markdown",
   "id": "activated-indiana",
   "metadata": {},
   "source": [
    "Find the data type of the raster."
   ]
  },
  {
   "cell_type": "code",
   "execution_count": 9,
   "id": "ideal-neutral",
   "metadata": {},
   "outputs": [
    {
     "data": {
      "text/plain": [
       "'uint8'"
      ]
     },
     "execution_count": 9,
     "metadata": {},
     "output_type": "execute_result"
    }
   ],
   "source": [
    "dtype = m.get_var_type(\"gis__raster_data\")\n",
    "dtype"
   ]
  },
  {
   "cell_type": "markdown",
   "id": "compatible-hostel",
   "metadata": {},
   "source": [
    "Within the BMI, functions that describe the grids that variables are defined on take an index instead of a variable name.\n",
    "\n",
    "Get the grid index for the raster data variable."
   ]
  },
  {
   "cell_type": "code",
   "execution_count": 10,
   "id": "endangered-entertainment",
   "metadata": {},
   "outputs": [
    {
     "data": {
      "text/plain": [
       "0"
      ]
     },
     "execution_count": 10,
     "metadata": {},
     "output_type": "execute_result"
    }
   ],
   "source": [
    "grid = m.get_var_grid(\"gis__raster_data\")\n",
    "grid"
   ]
  },
  {
   "cell_type": "markdown",
   "id": "english-people",
   "metadata": {},
   "source": [
    "Then find the total size of the raster data."
   ]
  },
  {
   "cell_type": "code",
   "execution_count": 11,
   "id": "described-constraint",
   "metadata": {},
   "outputs": [
    {
     "data": {
      "text/plain": [
       "1703814"
      ]
     },
     "execution_count": 11,
     "metadata": {},
     "output_type": "execute_result"
    }
   ],
   "source": [
    "size = m.get_grid_size(grid)\n",
    "size"
   ]
  },
  {
   "cell_type": "markdown",
   "id": "expensive-harvey",
   "metadata": {},
   "source": [
    "Next, get the raster data values.\n",
    "\n",
    "Two notes, however:\n",
    "\n",
    "* As a rule, memory should not be allocated within a BMI. This leads to the un-Pythonic way that we get the data--first creating an empty array, then passing it to a BMI function to receive values.\n",
    "* BMI arrays are flattened. This obviates array ordering issues between languages, but it does make >1D data harder to work with.\n",
    "\n",
    "Allocate an array for the raster data."
   ]
  },
  {
   "cell_type": "code",
   "execution_count": 12,
   "id": "special-aquatic",
   "metadata": {},
   "outputs": [
    {
     "data": {
      "text/plain": [
       "array([0, 0, 0, ..., 0, 0, 0], dtype=uint8)"
      ]
     },
     "execution_count": 12,
     "metadata": {},
     "output_type": "execute_result"
    }
   ],
   "source": [
    "raster = np.ndarray(size, dtype)\n",
    "raster"
   ]
  },
  {
   "cell_type": "markdown",
   "id": "dimensional-assembly",
   "metadata": {},
   "source": [
    "Get the data."
   ]
  },
  {
   "cell_type": "code",
   "execution_count": 13,
   "id": "cross-tragedy",
   "metadata": {},
   "outputs": [
    {
     "data": {
      "text/plain": [
       "array([0, 0, 0, ..., 0, 0, 0], dtype=uint8)"
      ]
     },
     "execution_count": 13,
     "metadata": {},
     "output_type": "execute_result"
    }
   ],
   "source": [
    "m.get_value(\"gis__raster_data\", raster)"
   ]
  },
  {
   "cell_type": "markdown",
   "id": "informed-medium",
   "metadata": {},
   "source": [
    "Note that the array is one-dimensional."
   ]
  },
  {
   "cell_type": "code",
   "execution_count": 14,
   "id": "small-execution",
   "metadata": {},
   "outputs": [
    {
     "data": {
      "text/plain": [
       "(1703814,)"
      ]
     },
     "execution_count": 14,
     "metadata": {},
     "output_type": "execute_result"
    }
   ],
   "source": [
    "raster.shape"
   ]
  },
  {
   "cell_type": "markdown",
   "id": "accomplished-parallel",
   "metadata": {},
   "source": [
    "### Reshape the data"
   ]
  },
  {
   "cell_type": "markdown",
   "id": "norman-beatles",
   "metadata": {},
   "source": [
    "Like all BMI arrays, the raster values returned from the BMI `get_value` function are flattened.\n",
    "Let's restore their original dimensionality."
   ]
  },
  {
   "cell_type": "markdown",
   "id": "eastern-borough",
   "metadata": {},
   "source": [
    "First, determine the dimensionality of the raster variable."
   ]
  },
  {
   "cell_type": "code",
   "execution_count": 15,
   "id": "productive-black",
   "metadata": {},
   "outputs": [
    {
     "data": {
      "text/plain": [
       "3"
      ]
     },
     "execution_count": 15,
     "metadata": {},
     "output_type": "execute_result"
    }
   ],
   "source": [
    "rank = m.get_grid_rank(grid)\n",
    "rank"
   ]
  },
  {
   "cell_type": "markdown",
   "id": "stunning-jacksonville",
   "metadata": {},
   "source": [
    "Get the dimensions of the raster data, first creating an array to store their values."
   ]
  },
  {
   "cell_type": "code",
   "execution_count": 16,
   "id": "fabulous-karaoke",
   "metadata": {},
   "outputs": [
    {
     "data": {
      "text/plain": [
       "array([  3, 718, 791])"
      ]
     },
     "execution_count": 16,
     "metadata": {},
     "output_type": "execute_result"
    }
   ],
   "source": [
    "shape = np.empty(rank, dtype=int)\n",
    "m.get_grid_shape(grid, shape)"
   ]
  },
  {
   "cell_type": "markdown",
   "id": "ordered-stretch",
   "metadata": {},
   "source": [
    "Reshape the raster data, creating a new array."
   ]
  },
  {
   "cell_type": "code",
   "execution_count": 17,
   "id": "pursuant-leisure",
   "metadata": {},
   "outputs": [],
   "source": [
    "rasterRGB = raster.reshape(shape)"
   ]
  },
  {
   "cell_type": "code",
   "execution_count": 18,
   "id": "immune-motel",
   "metadata": {},
   "outputs": [
    {
     "data": {
      "text/plain": [
       "(3, 718, 791)"
      ]
     },
     "execution_count": 18,
     "metadata": {},
     "output_type": "execute_result"
    }
   ],
   "source": [
    "rasterRGB.shape"
   ]
  },
  {
   "cell_type": "markdown",
   "id": "presidential-election",
   "metadata": {},
   "source": [
    "### Get map projection information"
   ]
  },
  {
   "cell_type": "markdown",
   "id": "exotic-charity",
   "metadata": {},
   "source": [
    "The data in the GeoTIFF file are georeferenced.\n",
    "The second and third variables exposed through the BMI,\n",
    "\"gis__coordinate_reference_system\" and \"gis__gdal_geotransform\", respectively,\n",
    "contain the proj.4 string and the [GDAL geotransform](https://gdal.org/user/raster_data_model.html#affine-geotransform) for the data.\n",
    "\n",
    "Get the geotransform through the BMI, following a process similar to what was used to obtain the raster data:\n",
    "\n",
    "* get variable type\n",
    "* get id of grid on which variable is defined\n",
    "* get size of grid\n",
    "* use the above to allocate an array for the transform\n",
    "* get the transform"
   ]
  },
  {
   "cell_type": "code",
   "execution_count": 19,
   "id": "unexpected-ideal",
   "metadata": {},
   "outputs": [
    {
     "data": {
      "text/plain": [
       "'float'"
      ]
     },
     "execution_count": 19,
     "metadata": {},
     "output_type": "execute_result"
    }
   ],
   "source": [
    "dtype = m.get_var_type(\"gis__gdal_geotransform\")\n",
    "dtype"
   ]
  },
  {
   "cell_type": "code",
   "execution_count": 20,
   "id": "governmental-bacteria",
   "metadata": {},
   "outputs": [
    {
     "data": {
      "text/plain": [
       "2"
      ]
     },
     "execution_count": 20,
     "metadata": {},
     "output_type": "execute_result"
    }
   ],
   "source": [
    "grid = m.get_var_grid(\"gis__gdal_geotransform\")\n",
    "grid"
   ]
  },
  {
   "cell_type": "code",
   "execution_count": 21,
   "id": "anonymous-valley",
   "metadata": {},
   "outputs": [
    {
     "data": {
      "text/plain": [
       "6"
      ]
     },
     "execution_count": 21,
     "metadata": {},
     "output_type": "execute_result"
    }
   ],
   "source": [
    "size = m.get_grid_size(grid)\n",
    "size"
   ]
  },
  {
   "cell_type": "code",
   "execution_count": 22,
   "id": "immediate-warehouse",
   "metadata": {},
   "outputs": [],
   "source": [
    "transform = np.ndarray(size, dtype)"
   ]
  },
  {
   "cell_type": "code",
   "execution_count": 23,
   "id": "loaded-woman",
   "metadata": {},
   "outputs": [
    {
     "data": {
      "text/plain": [
       "array([ 3.00037927e+02,  0.00000000e+00,  1.01985000e+05,  0.00000000e+00,\n",
       "       -3.00041783e+02,  2.82691500e+06])"
      ]
     },
     "execution_count": 23,
     "metadata": {},
     "output_type": "execute_result"
    }
   ],
   "source": [
    "m.get_value(\"gis__gdal_geotransform\", transform)\n",
    "transform"
   ]
  },
  {
   "cell_type": "markdown",
   "id": "nominated-annotation",
   "metadata": {},
   "source": [
    "## Visualize"
   ]
  },
  {
   "cell_type": "markdown",
   "id": "romance-auckland",
   "metadata": {},
   "source": [
    "Let's visualize the raster data as an image, with a little help from rasterio."
   ]
  },
  {
   "cell_type": "code",
   "execution_count": 24,
   "id": "foster-indicator",
   "metadata": {},
   "outputs": [
    {
     "data": {
      "image/png": "[encoded data removed]",
      "text/plain": [
       "<Figure size 432x288 with 1 Axes>"
      ]
     },
     "metadata": {
      "needs_background": "light"
     },
     "output_type": "display_data"
    },
    {
     "data": {
      "text/plain": [
       "<AxesSubplot:>"
      ]
     },
     "execution_count": 24,
     "metadata": {},
     "output_type": "execute_result"
    }
   ],
   "source": [
    "show(rasterRGB, transform=list(transform))"
   ]
  },
  {
   "cell_type": "markdown",
   "id": "warming-berkeley",
   "metadata": {},
   "source": [
    "## Conclusion"
   ]
  },
  {
   "cell_type": "markdown",
   "id": "located-latter",
   "metadata": {},
   "source": [
    "Last, call the BMI `finalize` function."
   ]
  },
  {
   "cell_type": "code",
   "execution_count": 25,
   "id": "opening-oklahoma",
   "metadata": {},
   "outputs": [],
   "source": [
    "m.finalize()"
   ]
  },
  {
   "cell_type": "markdown",
   "id": "matched-invalid",
   "metadata": {},
   "source": [
    "This demonstration of the BMI took a lot of code to reproduce a simple result.\n",
    "So why would anyone want to use the BMI?\n",
    "The key is that, in this demonstration, only the functions belonging to the BMI were used to access the data.\n",
    "No knowledge of the calling syntax of the underlying `Topography` class was used.\n",
    "\n",
    "The lesson is: once you've seen one BMI, you've seen them all!"
   ]
  }
 ],
 "metadata": {
  "kernelspec": {
   "display_name": "Python 3",
   "language": "python",
   "name": "python3"
  },
  "language_info": {
   "codemirror_mode": {
    "name": "ipython",
    "version": 3
   },
   "file_extension": ".py",
   "mimetype": "text/x-python",
   "name": "python",
   "nbconvert_exporter": "python",
   "pygments_lexer": "ipython3",
   "version": "3.9.2"
  }
 },
 "nbformat": 4,
 "nbformat_minor": 5
}
