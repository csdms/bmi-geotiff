{
 "cells": [
  {
   "cell_type": "markdown",
   "id": "0",
   "metadata": {},
   "source": [
    "# Read GeoTIFF data through a BMI"
   ]
  },
  {
   "cell_type": "markdown",
   "id": "1",
   "metadata": {},
   "source": [
    "This notebook describes how to open and read data from GeoTIFF files\n",
    "using a [Basic Model Interface](https://bmi.readthedocs.io/) (BMI) through the `BmiGeoTiff` class included in the `bmi-geotiff` package."
   ]
  },
  {
   "cell_type": "markdown",
   "id": "2",
   "metadata": {},
   "source": [
    "## Setup"
   ]
  },
  {
   "cell_type": "markdown",
   "id": "3",
   "metadata": {},
   "source": [
    "To ensure all dependencies are met, set up a conda environment using the environment file found in the root directory of this repository:\n",
    "```\n",
    "conda env create --file environment.yml\n",
    "```\n",
    "\n",
    "Then install the `bmi-geotiff` package:\n",
    "```\n",
    "pip install -e .\n",
    "```"
   ]
  },
  {
   "cell_type": "markdown",
   "id": "4",
   "metadata": {},
   "source": [
    "Import a set of libraries for later use:"
   ]
  },
  {
   "cell_type": "code",
   "execution_count": null,
   "id": "5",
   "metadata": {},
   "outputs": [],
   "source": [
    "import numpy as np\n",
    "from rasterio.plot import show"
   ]
  },
  {
   "cell_type": "markdown",
   "id": "6",
   "metadata": {},
   "source": [
    "## Open a file"
   ]
  },
  {
   "cell_type": "markdown",
   "id": "7",
   "metadata": {},
   "source": [
    "Import the `BmiGeoTiff` class from the `bmi-geotiff` package:"
   ]
  },
  {
   "cell_type": "code",
   "execution_count": null,
   "id": "8",
   "metadata": {},
   "outputs": [],
   "source": [
    "from bmi_geotiff import BmiGeoTiff"
   ]
  },
  {
   "cell_type": "markdown",
   "id": "9",
   "metadata": {},
   "source": [
    "Create an instance of this class."
   ]
  },
  {
   "cell_type": "code",
   "execution_count": null,
   "id": "10",
   "metadata": {},
   "outputs": [],
   "source": [
    "m = BmiGeoTiff()"
   ]
  },
  {
   "cell_type": "markdown",
   "id": "11",
   "metadata": {},
   "source": [
    "Calling `help` on the instance displays all the BMI methods that are available."
   ]
  },
  {
   "cell_type": "code",
   "execution_count": null,
   "id": "12",
   "metadata": {},
   "outputs": [],
   "source": [
    "help(m)"
   ]
  },
  {
   "cell_type": "markdown",
   "id": "13",
   "metadata": {},
   "source": [
    "The first step in using a BMI is calling the `initialize` method.\n",
    "This method requires a configuration file that provides initial values for the `GeoTiff` library wrapped by the BMI.\n",
    "\n",
    "A sample configuration file is provided in the **examples** directory."
   ]
  },
  {
   "cell_type": "code",
   "execution_count": null,
   "id": "14",
   "metadata": {},
   "outputs": [],
   "source": [
    "!ls"
   ]
  },
  {
   "cell_type": "code",
   "execution_count": null,
   "id": "15",
   "metadata": {},
   "outputs": [],
   "source": [
    "!cat config.yaml"
   ]
  },
  {
   "cell_type": "markdown",
   "id": "16",
   "metadata": {},
   "source": [
    "In this case, the configuration file simply lists the path to a GeoTIFF file\n",
    "(here, the test file **RGB.byte.tif** from the [rasterio](https://rasterio.readthedocs.io/) project).\n",
    "\n",
    "Call `initialize` with the sample configuration file:"
   ]
  },
  {
   "cell_type": "code",
   "execution_count": null,
   "id": "17",
   "metadata": {},
   "outputs": [],
   "source": [
    "m.initialize(\"config.yaml\")"
   ]
  },
  {
   "cell_type": "markdown",
   "id": "18",
   "metadata": {},
   "source": [
    "The GeoTIFF file listed in the configuration file has now been opened,\n",
    "and the information it contains can be accessed through BMI methods."
   ]
  },
  {
   "cell_type": "markdown",
   "id": "19",
   "metadata": {},
   "source": [
    "## Access data through the BMI"
   ]
  },
  {
   "cell_type": "markdown",
   "id": "20",
   "metadata": {},
   "source": [
    "Now that we've opened the GeoTIFF file, let's access the data and metadata it contains through the BMI.\n",
    "This will take a few steps.\n",
    "It may seem cumbersome at first, but there's payoff at the end.\n",
    "\n",
    "Start by displying the names of the variables exposed through the BMI."
   ]
  },
  {
   "cell_type": "code",
   "execution_count": null,
   "id": "21",
   "metadata": {},
   "outputs": [],
   "source": [
    "m.get_output_var_names()"
   ]
  },
  {
   "cell_type": "markdown",
   "id": "22",
   "metadata": {},
   "source": [
    "The (long) names used for these variables are instances of [CSDMS Standard Names](https://csdms.colorado.edu/wiki/CSDMS_Standard_Names).\n",
    "Standard Names are intended to be unambiguous; the tradeoff is that they tend to be long.\n",
    "Here, the first variable is for the raster data stored in the file."
   ]
  },
  {
   "cell_type": "markdown",
   "id": "23",
   "metadata": {},
   "source": [
    "Find the data type of the raster."
   ]
  },
  {
   "cell_type": "code",
   "execution_count": null,
   "id": "24",
   "metadata": {},
   "outputs": [],
   "source": [
    "dtype = m.get_var_type(\"gis__raster_data\")\n",
    "dtype"
   ]
  },
  {
   "cell_type": "markdown",
   "id": "25",
   "metadata": {},
   "source": [
    "Within the BMI, functions that describe the grids that variables are defined on take an index instead of a variable name.\n",
    "\n",
    "Get the grid index for the raster data variable."
   ]
  },
  {
   "cell_type": "code",
   "execution_count": null,
   "id": "26",
   "metadata": {},
   "outputs": [],
   "source": [
    "grid = m.get_var_grid(\"gis__raster_data\")\n",
    "grid"
   ]
  },
  {
   "cell_type": "markdown",
   "id": "27",
   "metadata": {},
   "source": [
    "Then find the total size of the raster data."
   ]
  },
  {
   "cell_type": "code",
   "execution_count": null,
   "id": "28",
   "metadata": {},
   "outputs": [],
   "source": [
    "size = m.get_grid_size(grid)\n",
    "size"
   ]
  },
  {
   "cell_type": "markdown",
   "id": "29",
   "metadata": {},
   "source": [
    "Next, get the raster data values.\n",
    "\n",
    "Two notes, however:\n",
    "\n",
    "* As a rule, memory should not be allocated within a BMI. This leads to the un-Pythonic way that we get the data--first creating an empty array, then passing it to a BMI function to receive values.\n",
    "* BMI arrays are flattened. This obviates array ordering issues between languages, but it does make >1D data harder to work with.\n",
    "\n",
    "Allocate an array for the raster data."
   ]
  },
  {
   "cell_type": "code",
   "execution_count": null,
   "id": "30",
   "metadata": {},
   "outputs": [],
   "source": [
    "raster = np.ndarray(size, dtype)\n",
    "raster"
   ]
  },
  {
   "cell_type": "markdown",
   "id": "31",
   "metadata": {},
   "source": [
    "Get the data."
   ]
  },
  {
   "cell_type": "code",
   "execution_count": null,
   "id": "32",
   "metadata": {},
   "outputs": [],
   "source": [
    "m.get_value(\"gis__raster_data\", raster)"
   ]
  },
  {
   "cell_type": "markdown",
   "id": "33",
   "metadata": {},
   "source": [
    "Note that the array is one-dimensional."
   ]
  },
  {
   "cell_type": "code",
   "execution_count": null,
   "id": "34",
   "metadata": {},
   "outputs": [],
   "source": [
    "raster.shape"
   ]
  },
  {
   "cell_type": "markdown",
   "id": "35",
   "metadata": {},
   "source": [
    "### Reshape the data"
   ]
  },
  {
   "cell_type": "markdown",
   "id": "36",
   "metadata": {},
   "source": [
    "Like all BMI arrays, the raster values returned from the BMI `get_value` function are flattened.\n",
    "Let's restore their original dimensionality."
   ]
  },
  {
   "cell_type": "markdown",
   "id": "37",
   "metadata": {},
   "source": [
    "First, determine the dimensionality of the raster variable."
   ]
  },
  {
   "cell_type": "code",
   "execution_count": null,
   "id": "38",
   "metadata": {},
   "outputs": [],
   "source": [
    "rank = m.get_grid_rank(grid)\n",
    "rank"
   ]
  },
  {
   "cell_type": "markdown",
   "id": "39",
   "metadata": {},
   "source": [
    "Get the dimensions of the raster data, first creating an array to store their values."
   ]
  },
  {
   "cell_type": "code",
   "execution_count": null,
   "id": "40",
   "metadata": {},
   "outputs": [],
   "source": [
    "shape = np.empty(rank, dtype=int)\n",
    "m.get_grid_shape(grid, shape)"
   ]
  },
  {
   "cell_type": "markdown",
   "id": "41",
   "metadata": {},
   "source": [
    "Reshape the raster data, creating a new array."
   ]
  },
  {
   "cell_type": "code",
   "execution_count": null,
   "id": "42",
   "metadata": {},
   "outputs": [],
   "source": [
    "rasterRGB = raster.reshape(shape)"
   ]
  },
  {
   "cell_type": "code",
   "execution_count": null,
   "id": "43",
   "metadata": {},
   "outputs": [],
   "source": [
    "rasterRGB.shape"
   ]
  },
  {
   "cell_type": "markdown",
   "id": "44",
   "metadata": {},
   "source": [
    "### Get map projection information"
   ]
  },
  {
   "cell_type": "markdown",
   "id": "45",
   "metadata": {},
   "source": [
    "The data in the GeoTIFF file are georeferenced.\n",
    "The second and third variables exposed through the BMI,\n",
    "\"gis__coordinate_reference_system_well_known_text\" and \"gis__affine_transform\", respectively,\n",
    "contain the [WKT](https://en.wikipedia.org/wiki/Well-known_text_representation_of_coordinate_reference_systems) string\n",
    "and the [affine transform](https://rasterio.readthedocs.io/en/latest/topics/georeferencing.html#affine) for the data.\n",
    "\n",
    "Get the transform through the BMI, following a process similar to what was used to obtain the raster data:\n",
    "\n",
    "* get variable type\n",
    "* get id of grid on which variable is defined\n",
    "* get size of grid\n",
    "* use the above to allocate an array for the transform\n",
    "* get the transform"
   ]
  },
  {
   "cell_type": "code",
   "execution_count": null,
   "id": "46",
   "metadata": {},
   "outputs": [],
   "source": [
    "dtype = m.get_var_type(\"gis__affine_transform\")\n",
    "dtype"
   ]
  },
  {
   "cell_type": "code",
   "execution_count": null,
   "id": "47",
   "metadata": {},
   "outputs": [],
   "source": [
    "grid = m.get_var_grid(\"gis__affine_transform\")\n",
    "grid"
   ]
  },
  {
   "cell_type": "code",
   "execution_count": null,
   "id": "48",
   "metadata": {},
   "outputs": [],
   "source": [
    "size = m.get_grid_size(grid)\n",
    "size"
   ]
  },
  {
   "cell_type": "code",
   "execution_count": null,
   "id": "49",
   "metadata": {},
   "outputs": [],
   "source": [
    "transform = np.ndarray(size, dtype)"
   ]
  },
  {
   "cell_type": "code",
   "execution_count": null,
   "id": "50",
   "metadata": {},
   "outputs": [],
   "source": [
    "m.get_value(\"gis__affine_transform\", transform)\n",
    "transform"
   ]
  },
  {
   "cell_type": "markdown",
   "id": "51",
   "metadata": {},
   "source": [
    "## Visualize"
   ]
  },
  {
   "cell_type": "markdown",
   "id": "52",
   "metadata": {},
   "source": [
    "Let's visualize the raster data as an image, with a little help from rasterio."
   ]
  },
  {
   "cell_type": "code",
   "execution_count": null,
   "id": "53",
   "metadata": {},
   "outputs": [],
   "source": [
    "show(rasterRGB, transform=list(transform[0:6]))"
   ]
  },
  {
   "cell_type": "markdown",
   "id": "54",
   "metadata": {},
   "source": [
    "## Conclusion"
   ]
  },
  {
   "cell_type": "markdown",
   "id": "55",
   "metadata": {},
   "source": [
    "Last, call the BMI `finalize` function."
   ]
  },
  {
   "cell_type": "code",
   "execution_count": null,
   "id": "56",
   "metadata": {},
   "outputs": [],
   "source": [
    "m.finalize()"
   ]
  },
  {
   "cell_type": "markdown",
   "id": "57",
   "metadata": {},
   "source": [
    "This demonstration of the BMI took a lot of code to reproduce a simple result.\n",
    "So why would anyone want to use the BMI?\n",
    "The key is that, in this demonstration, only the functions belonging to the BMI were used to access the data.\n",
    "No knowledge of the calling syntax of the underlying `GeoTiff` class was used.\n",
    "\n",
    "The lesson is: once you've seen one BMI, you've seen them all!"
   ]
  }
 ],
 "metadata": {
  "kernelspec": {
   "display_name": "Python 3 (ipykernel)",
   "language": "python",
   "name": "python3"
  },
  "language_info": {
   "codemirror_mode": {
    "name": "ipython",
    "version": 3
   },
   "file_extension": ".py",
   "mimetype": "text/x-python",
   "name": "python",
   "nbconvert_exporter": "python",
   "pygments_lexer": "ipython3",
   "version": "3.10.5"
  }
 },
 "nbformat": 4,
 "nbformat_minor": 5
}
